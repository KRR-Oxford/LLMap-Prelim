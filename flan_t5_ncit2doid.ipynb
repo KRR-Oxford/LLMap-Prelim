{
 "cells": [
  {
   "cell_type": "code",
   "execution_count": 35,
   "metadata": {},
   "outputs": [],
   "source": [
    "from transformers import T5Tokenizer, T5ForConditionalGeneration\n",
    "from deeponto.onto import Ontology\n",
    "from deeponto.align.bertmap import BERTMapPipeline\n",
    "from deeponto.align.evaluation import AlignmentEvaluator\n",
    "from deeponto.utils import FileUtils\n",
    "from deeponto.align.mapping import EntityMapping, ReferenceMapping\n",
    "import pandas as pd\n",
    "import random\n",
    "import numpy as np"
   ]
  },
  {
   "cell_type": "code",
   "execution_count": 2,
   "metadata": {},
   "outputs": [
    {
     "name": "stdout",
     "output_type": "stream",
     "text": [
      "Use the default configuration at /home/yuan/anaconda3/envs/deeponto/lib/python3.8/site-packages/deeponto/align/bertmap/default_config.yaml.\n"
     ]
    }
   ],
   "source": [
    "# load source and target ontologies\n",
    "src_onto_path = \"data/ncit2doid/ncit.owl\"\n",
    "tgt_onto_path = \"data/ncit2doid/doid.owl\"\n",
    "src_onto = Ontology(src_onto_path)\n",
    "tgt_onto = Ontology(tgt_onto_path)\n",
    "config = BERTMapPipeline.load_bertmap_config()"
   ]
  },
  {
   "cell_type": "code",
   "execution_count": 3,
   "metadata": {},
   "outputs": [],
   "source": [
    "# build annotation index {class_iri: class_labels}\n",
    "src_annotation_index, _ = src_onto.build_annotation_index(config.annotation_property_iris)\n",
    "tgt_annotation_index, _ = tgt_onto.build_annotation_index(config.annotation_property_iris)"
   ]
  },
  {
   "cell_type": "code",
   "execution_count": 4,
   "metadata": {},
   "outputs": [
    {
     "data": {
      "application/vnd.jupyter.widget-view+json": {
       "model_id": "ef4d37dbe860454699248f0c76125fac",
       "version_major": 2,
       "version_minor": 0
      },
      "text/plain": [
       "Loading checkpoint shards:   0%|          | 0/5 [00:00<?, ?it/s]"
      ]
     },
     "metadata": {},
     "output_type": "display_data"
    }
   ],
   "source": [
    "tokenizer = T5Tokenizer.from_pretrained(\"google/flan-t5-xxl\")\n",
    "model = T5ForConditionalGeneration.from_pretrained(\"google/flan-t5-xxl\", device_map=\"auto\")"
   ]
  },
  {
   "cell_type": "code",
   "execution_count": 5,
   "metadata": {},
   "outputs": [],
   "source": [
    "test_cands = FileUtils.read_table(\"data/ncit2doid/test_cands.tsv\")"
   ]
  },
  {
   "cell_type": "code",
   "execution_count": 8,
   "metadata": {},
   "outputs": [],
   "source": [
    "# controlling input labels because of the window size limit of T5\n",
    "def process_labels(labels, cut_off = 3):\n",
    "    labels = list(labels)\n",
    "    if len(labels) >= cut_off:\n",
    "        labels.sort(key=len, reverse=True)\n",
    "    return labels[:cut_off]"
   ]
  },
  {
   "cell_type": "code",
   "execution_count": 11,
   "metadata": {},
   "outputs": [
    {
     "name": "stdout",
     "output_type": "stream",
     "text": [
      "Consider two concepts, each represented by a list of associated names.\n",
      "\n",
      "Source concept: ['A']. Its parent concepts are represented by: ['P_A1', 'P_A2']. Its child concepts are represented by: ['C_A1'].\n",
      "Target concept: ['B']. Its parent concepts are represented by: ['P_B1'].\n",
      "\n",
      "Given these representations, can you determine if the source concept and the target concept are identical? Please answer with \"Yes\" if they are identical or \"No\" if they are not.\n"
     ]
    }
   ],
   "source": [
    "def v_text(src_labels, tgt_labels, src_parent_labels=None, tgt_parent_labels=None, src_child_labels=None, tgt_child_labels=None):\n",
    "    v = \"Consider two concepts, each represented by a list of associated names.\\n\\n\"\n",
    "    v += f\"Source concept: {src_labels}.\\n\"\n",
    "    if src_parent_labels:\n",
    "        v = v[:-1] # removing new line character\n",
    "        v += f\" Its parent concepts are represented by: {src_parent_labels}.\\n\"\n",
    "    if src_child_labels:\n",
    "        v = v[:-1] # removing new line character\n",
    "        v += f\" Its child concepts are represented by: {src_child_labels}.\\n\"\n",
    "    v += f\"Target concept: {tgt_labels}.\\n\\n\"\n",
    "    if tgt_parent_labels:\n",
    "        v = v[:-2]\n",
    "        v += f\" Its parent concepts are represented by: {tgt_parent_labels}.\\n\\n\"\n",
    "    if tgt_child_labels:\n",
    "        v += f\" Its child concepts are represented by: {tgt_child_labels}.\\n\\n\"\n",
    "    v += \"Given these representations, can you determine if the source concept and the target concept are identical? Please answer with \\\"Yes\\\" if they are identical or \\\"No\\\" if they are not.\"\n",
    "    return v\n",
    "\n",
    "print(v_text([\"A\"], [\"B\"], [\"P_A1\", \"P_A2\"], [\"P_B1\"], [\"C_A1\"]))"
   ]
  },
  {
   "cell_type": "code",
   "execution_count": 19,
   "metadata": {},
   "outputs": [
    {
     "name": "stdout",
     "output_type": "stream",
     "text": [
      "True ['http://purl.obolibrary.org/obo/DOID_3747']\n",
      "True ['http://purl.obolibrary.org/obo/DOID_2490']\n",
      "True ['http://purl.obolibrary.org/obo/DOID_5047']\n",
      "True ['http://purl.obolibrary.org/obo/DOID_11713']\n",
      "True ['http://purl.obolibrary.org/obo/DOID_7578']\n",
      "True ['http://purl.obolibrary.org/obo/DOID_7689', 'http://purl.obolibrary.org/obo/DOID_6086']\n",
      "True ['http://purl.obolibrary.org/obo/DOID_6511']\n",
      "False ['UnMatched']\n",
      "False ['UnMatched']\n",
      "False ['UnMatched']\n",
      "False ['UnMatched']\n",
      "True ['http://purl.obolibrary.org/obo/DOID_6228']\n",
      "False ['UnMatched']\n",
      "False ['http://purl.obolibrary.org/obo/DOID_7505']\n",
      "False ['UnMatched']\n",
      "True ['http://purl.obolibrary.org/obo/DOID_7459']\n",
      "True ['http://purl.obolibrary.org/obo/DOID_13372']\n",
      "True ['http://purl.obolibrary.org/obo/DOID_0060111']\n",
      "False ['UnMatched']\n",
      "True ['http://purl.obolibrary.org/obo/DOID_12270']\n",
      "True ['http://purl.obolibrary.org/obo/DOID_5637']\n",
      "True ['http://purl.obolibrary.org/obo/DOID_12318']\n",
      "True ['http://purl.obolibrary.org/obo/DOID_3646']\n",
      "True ['http://purl.obolibrary.org/obo/DOID_12205']\n",
      "True ['http://purl.obolibrary.org/obo/DOID_0111088']\n",
      "True ['http://purl.obolibrary.org/obo/DOID_5813']\n",
      "True ['http://purl.obolibrary.org/obo/DOID_0060406']\n",
      "True ['http://purl.obolibrary.org/obo/DOID_8178', 'http://purl.obolibrary.org/obo/DOID_8177']\n",
      "True ['http://purl.obolibrary.org/obo/DOID_9540']\n",
      "True ['http://purl.obolibrary.org/obo/DOID_3596']\n",
      "True ['http://purl.obolibrary.org/obo/DOID_3407']\n",
      "True ['http://purl.obolibrary.org/obo/DOID_8858']\n",
      "True ['http://purl.obolibrary.org/obo/DOID_8009', 'http://purl.obolibrary.org/obo/DOID_5518']\n",
      "True ['http://purl.obolibrary.org/obo/DOID_6052', 'http://purl.obolibrary.org/obo/DOID_8078', 'http://purl.obolibrary.org/obo/DOID_7430', 'http://purl.obolibrary.org/obo/DOID_6053']\n",
      "True ['http://purl.obolibrary.org/obo/DOID_0060119']\n",
      "True ['http://purl.obolibrary.org/obo/DOID_12756']\n",
      "True ['http://purl.obolibrary.org/obo/DOID_7049', 'http://purl.obolibrary.org/obo/DOID_5522']\n",
      "False ['http://purl.obolibrary.org/obo/DOID_0111040']\n",
      "True ['http://purl.obolibrary.org/obo/DOID_0060316']\n",
      "True ['http://purl.obolibrary.org/obo/DOID_5488']\n",
      "True ['http://purl.obolibrary.org/obo/DOID_3762']\n",
      "True ['http://purl.obolibrary.org/obo/DOID_14203']\n",
      "False ['http://purl.obolibrary.org/obo/DOID_10159']\n",
      "False ['UnMatched']\n",
      "True ['http://purl.obolibrary.org/obo/DOID_1988']\n",
      "True ['http://purl.obolibrary.org/obo/DOID_7936']\n",
      "True ['http://purl.obolibrary.org/obo/DOID_10366']\n",
      "True ['http://purl.obolibrary.org/obo/DOID_0060387']\n",
      "True ['http://purl.obolibrary.org/obo/DOID_3856']\n",
      "True ['http://purl.obolibrary.org/obo/DOID_5612']\n",
      "True ['UnMatched']\n",
      "True ['UnMatched']\n",
      "False ['http://purl.obolibrary.org/obo/DOID_734']\n",
      "True ['UnMatched']\n",
      "False ['http://purl.obolibrary.org/obo/DOID_3457', 'http://purl.obolibrary.org/obo/DOID_3008']\n",
      "True ['UnMatched']\n",
      "True ['UnMatched']\n",
      "False ['http://purl.obolibrary.org/obo/DOID_4919']\n",
      "True ['UnMatched']\n",
      "True ['UnMatched']\n",
      "False ['http://purl.obolibrary.org/obo/DOID_7533']\n",
      "True ['UnMatched']\n",
      "True ['UnMatched']\n",
      "True ['UnMatched']\n",
      "False ['http://purl.obolibrary.org/obo/DOID_0060801']\n",
      "True ['UnMatched']\n",
      "True ['UnMatched']\n",
      "True ['UnMatched']\n",
      "True ['UnMatched']\n",
      "True ['UnMatched']\n",
      "False ['http://purl.obolibrary.org/obo/DOID_6705']\n",
      "True ['UnMatched']\n",
      "True ['UnMatched']\n",
      "True ['UnMatched']\n",
      "True ['UnMatched']\n",
      "True ['UnMatched']\n",
      "True ['UnMatched']\n",
      "False ['http://purl.obolibrary.org/obo/DOID_0050626']\n",
      "False ['http://purl.obolibrary.org/obo/DOID_10021', 'http://purl.obolibrary.org/obo/DOID_0050927']\n",
      "True ['UnMatched']\n",
      "True ['UnMatched']\n",
      "True ['UnMatched']\n",
      "True ['UnMatched']\n",
      "True ['UnMatched']\n",
      "True ['UnMatched']\n",
      "True ['UnMatched']\n",
      "True ['UnMatched']\n",
      "True ['UnMatched']\n",
      "True ['UnMatched']\n",
      "True ['UnMatched']\n",
      "True ['UnMatched']\n",
      "False ['http://purl.obolibrary.org/obo/DOID_4288', 'http://purl.obolibrary.org/obo/DOID_5665']\n",
      "True ['UnMatched']\n",
      "True ['UnMatched']\n",
      "True ['UnMatched']\n",
      "True ['UnMatched']\n",
      "False ['http://purl.obolibrary.org/obo/DOID_9119']\n",
      "False ['http://purl.obolibrary.org/obo/DOID_8567']\n",
      "True ['UnMatched']\n",
      "True ['UnMatched']\n"
     ]
    }
   ],
   "source": [
    "# vanila setting (no structural context)\n",
    "results = []\n",
    "corrects = []\n",
    "for i, dp in test_cands.iterrows():\n",
    "    src_iri = dp[\"SrcEntity\"]\n",
    "    tgt_iri = dp[\"TgtEntity\"]\n",
    "    tgt_cands = eval(dp[\"TgtCandidates\"])\n",
    "    src_labels = process_labels(src_annotation_index[src_iri])\n",
    "    preds = []\n",
    "    scores = []\n",
    "    for tgt_cand_iri in tgt_cands:\n",
    "        tgt_cand_labels = process_labels(tgt_annotation_index[tgt_cand_iri])\n",
    "        input_ids = tokenizer(v_text(src_labels, tgt_cand_labels), return_tensors=\"pt\").input_ids.to(\"cuda\")\n",
    "        outputs = model.generate(input_ids, max_new_tokens=3, return_dict_in_generate=True, output_scores=True)\n",
    "        transition_scores = model.compute_transition_scores(\n",
    "            outputs.sequences, outputs.scores, normalize_logits=True\n",
    "        )\n",
    "        input_length = 1 if model.config.is_encoder_decoder else input_ids.shape[1]\n",
    "        generated_tokens = outputs.sequences[:, input_length:]\n",
    "        has_answer = False\n",
    "        for tok, score in zip(generated_tokens[0], transition_scores[0]):\n",
    "            # | token | token string | logits | probability\n",
    "            score = np.exp(score.cpu().numpy())\n",
    "            tok = tokenizer.decode(tok)\n",
    "            # probs.append((tok, score))\n",
    "            if \"Yes\" in tok:\n",
    "                # print(f\"| {tok:8s} | {score:.2%}\")\n",
    "                if score > 0.55:\n",
    "                    preds.append(tgt_cand_iri)\n",
    "                scores.append((tgt_cand_iri, \"Yes\", score))\n",
    "                has_answer = True\n",
    "                break\n",
    "            if \"No\" in tok:\n",
    "                # print(f\"| {tok:8s} | {score:.2%}\")\n",
    "                scores.append((tgt_cand_iri, \"No\", score))\n",
    "                has_answer = True\n",
    "                break\n",
    "            if not has_answer:\n",
    "                # if no yes or no, giving the worst score\n",
    "                scores.append((tgt_cand_iri, \"No\", 1.0))\n",
    "    if not preds:\n",
    "        preds += [\"UnMatched\"]\n",
    "    correct = tgt_iri in preds\n",
    "    corrects.append(correct)\n",
    "    results.append(scores)\n",
    "    print(correct, preds)"
   ]
  },
  {
   "cell_type": "code",
   "execution_count": 76,
   "metadata": {},
   "outputs": [],
   "source": [
    "def ranking(scores):\n",
    "    # rank the \"yes\" candidates according to their scores\n",
    "    # the \"yes\" candidates is always before the \"no\" candidates\n",
    "    # then rank the \"no\" candidates according to 1.0 - their scores\n",
    "    yes = []\n",
    "    no = []\n",
    "    for tgt_iri, answer, score in scores:\n",
    "        if answer == \"Yes\":\n",
    "            yes.append((tgt_iri, \"Yes\", score))\n",
    "        else:\n",
    "            no.append((tgt_iri, \"No\", 1.0 - score))\n",
    "    yes = list(sorted(yes, key=lambda x: x[2], reverse=True))\n",
    "    no = list(sorted(no, key=lambda x: x[2], reverse=True))\n",
    "    return yes + no"
   ]
  },
  {
   "cell_type": "code",
   "execution_count": 77,
   "metadata": {},
   "outputs": [],
   "source": [
    "results_dict = dict()\n",
    "for i, scores in enumerate(results):\n",
    "    results_dict[test_cands.iloc[i][\"SrcEntity\"]] = ranking(scores)"
   ]
  },
  {
   "cell_type": "code",
   "execution_count": 79,
   "metadata": {},
   "outputs": [],
   "source": [
    "FileUtils.save_file(results_dict, \"flan_t5_ncit2doid_results.pkl\")"
   ]
  },
  {
   "cell_type": "code",
   "execution_count": 80,
   "metadata": {},
   "outputs": [],
   "source": [
    "ranked_results = FileUtils.load_file(\"flan_t5_ncit2doid_results.pkl\")"
   ]
  },
  {
   "cell_type": "code",
   "execution_count": 83,
   "metadata": {},
   "outputs": [],
   "source": [
    "for k, v in ranked_results.items():\n",
    "    assert len(ranked_results) == 100"
   ]
  },
  {
   "cell_type": "code",
   "execution_count": 90,
   "metadata": {},
   "outputs": [],
   "source": [
    "# compute Precision, Recall\n",
    "preds = []\n",
    "for src, tgts in ranked_results.items():\n",
    "    for t, answer, score in tgts:\n",
    "        mapping = EntityMapping(src, t, \"=\", score)\n",
    "        if answer == \"Yes\":\n",
    "            preds.append(mapping)\n",
    "            break\n",
    "        # if score > 0.5:\n",
    "        #     preds.append(mapping)\n",
    "        # break\n",
    "        # if score > 0.65:\n",
    "        #     mapping = EntityMapping(test_cands.iloc[i][\"SrcEntity\"], t_iri, \"=\", score)\n",
    "        #     preds.append(mapping)"
   ]
  },
  {
   "cell_type": "code",
   "execution_count": 91,
   "metadata": {},
   "outputs": [],
   "source": [
    "refs = ReferenceMapping.read_table_mappings(\"data/ncit2doid/refs/test_refs.tsv\")[:50]"
   ]
  },
  {
   "cell_type": "code",
   "execution_count": 92,
   "metadata": {},
   "outputs": [
    {
     "data": {
      "text/plain": [
       "{'P': 0.736, 'R': 0.78, 'F1': 0.757}"
      ]
     },
     "execution_count": 92,
     "metadata": {},
     "output_type": "execute_result"
    }
   ],
   "source": [
    "AlignmentEvaluator.f1(preds, refs, [])"
   ]
  },
  {
   "cell_type": "code",
   "execution_count": 89,
   "metadata": {},
   "outputs": [
    {
     "data": {
      "text/plain": [
       "[EntityMapping(http://ncicb.nci.nih.gov/xml/owl/EVS/Thesaurus.owl#C27420 = http://purl.obolibrary.org/obo/DOID_3747, 0.9185360074043274),\n",
       " EntityMapping(http://ncicb.nci.nih.gov/xml/owl/EVS/Thesaurus.owl#C97172 = http://purl.obolibrary.org/obo/DOID_2490, 0.9413300156593323),\n",
       " EntityMapping(http://ncicb.nci.nih.gov/xml/owl/EVS/Thesaurus.owl#C7017 = http://purl.obolibrary.org/obo/DOID_5047, 0.8481510281562805),\n",
       " EntityMapping(http://ncicb.nci.nih.gov/xml/owl/EVS/Thesaurus.owl#C35610 = http://purl.obolibrary.org/obo/DOID_11713, 0.8025959730148315),\n",
       " EntityMapping(http://ncicb.nci.nih.gov/xml/owl/EVS/Thesaurus.owl#C7362 = http://purl.obolibrary.org/obo/DOID_7578, 0.7001780271530151),\n",
       " EntityMapping(http://ncicb.nci.nih.gov/xml/owl/EVS/Thesaurus.owl#C8312 = http://purl.obolibrary.org/obo/DOID_7689, 0.9076669812202454),\n",
       " EntityMapping(http://ncicb.nci.nih.gov/xml/owl/EVS/Thesaurus.owl#C8312 = http://purl.obolibrary.org/obo/DOID_6086, 0.7143499851226807),\n",
       " EntityMapping(http://ncicb.nci.nih.gov/xml/owl/EVS/Thesaurus.owl#C39988 = http://purl.obolibrary.org/obo/DOID_6511, 0.9077150225639343),\n",
       " EntityMapping(http://ncicb.nci.nih.gov/xml/owl/EVS/Thesaurus.owl#C7695 = http://purl.obolibrary.org/obo/DOID_6228, 0.7681900262832642),\n",
       " EntityMapping(http://ncicb.nci.nih.gov/xml/owl/EVS/Thesaurus.owl#C3141 = http://purl.obolibrary.org/obo/DOID_7505, 0.5897340178489685),\n",
       " EntityMapping(http://ncicb.nci.nih.gov/xml/owl/EVS/Thesaurus.owl#C40359 = http://purl.obolibrary.org/obo/DOID_7459, 0.9745749831199646),\n",
       " EntityMapping(http://ncicb.nci.nih.gov/xml/owl/EVS/Thesaurus.owl#C84397 = http://purl.obolibrary.org/obo/DOID_13372, 0.9246580004692078),\n",
       " EntityMapping(http://ncicb.nci.nih.gov/xml/owl/EVS/Thesaurus.owl#C4517 = http://purl.obolibrary.org/obo/DOID_0060111, 0.9115179777145386),\n",
       " EntityMapping(http://ncicb.nci.nih.gov/xml/owl/EVS/Thesaurus.owl#C98877 = http://purl.obolibrary.org/obo/DOID_12270, 0.9033730030059814),\n",
       " EntityMapping(http://ncicb.nci.nih.gov/xml/owl/EVS/Thesaurus.owl#C5721 = http://purl.obolibrary.org/obo/DOID_5637, 0.8073170185089111),\n",
       " EntityMapping(http://ncicb.nci.nih.gov/xml/owl/EVS/Thesaurus.owl#C34651 = http://purl.obolibrary.org/obo/DOID_12318, 0.9379379749298096),\n",
       " EntityMapping(http://ncicb.nci.nih.gov/xml/owl/EVS/Thesaurus.owl#C27066 = http://purl.obolibrary.org/obo/DOID_3646, 0.8693069815635681),\n",
       " EntityMapping(http://ncicb.nci.nih.gov/xml/owl/EVS/Thesaurus.owl#C34528 = http://purl.obolibrary.org/obo/DOID_12205, 0.6359120011329651),\n",
       " EntityMapping(http://ncicb.nci.nih.gov/xml/owl/EVS/Thesaurus.owl#C125707 = http://purl.obolibrary.org/obo/DOID_0111088, 0.8637539744377136),\n",
       " EntityMapping(http://ncicb.nci.nih.gov/xml/owl/EVS/Thesaurus.owl#C3963 = http://purl.obolibrary.org/obo/DOID_5813, 0.9027519822120667),\n",
       " EntityMapping(http://ncicb.nci.nih.gov/xml/owl/EVS/Thesaurus.owl#C84521 = http://purl.obolibrary.org/obo/DOID_0060406, 0.7831680178642273),\n",
       " EntityMapping(http://ncicb.nci.nih.gov/xml/owl/EVS/Thesaurus.owl#C40233 = http://purl.obolibrary.org/obo/DOID_8178, 0.992779016494751),\n",
       " EntityMapping(http://ncicb.nci.nih.gov/xml/owl/EVS/Thesaurus.owl#C40233 = http://purl.obolibrary.org/obo/DOID_8177, 0.7169110178947449),\n",
       " EntityMapping(http://ncicb.nci.nih.gov/xml/owl/EVS/Thesaurus.owl#C35254 = http://purl.obolibrary.org/obo/DOID_9540, 0.8183299899101257),\n",
       " EntityMapping(http://ncicb.nci.nih.gov/xml/owl/EVS/Thesaurus.owl#C3757 = http://purl.obolibrary.org/obo/DOID_3596, 0.6962860226631165),\n",
       " EntityMapping(http://ncicb.nci.nih.gov/xml/owl/EVS/Thesaurus.owl#C84476 = http://purl.obolibrary.org/obo/DOID_3407, 0.8484820127487183),\n",
       " EntityMapping(http://ncicb.nci.nih.gov/xml/owl/EVS/Thesaurus.owl#C84476 = http://purl.obolibrary.org/obo/DOID_13001, 0.5329530239105225),\n",
       " EntityMapping(http://ncicb.nci.nih.gov/xml/owl/EVS/Thesaurus.owl#C7404 = http://purl.obolibrary.org/obo/DOID_8858, 0.7414460182189941),\n",
       " EntityMapping(http://ncicb.nci.nih.gov/xml/owl/EVS/Thesaurus.owl#C39959 = http://purl.obolibrary.org/obo/DOID_8009, 0.9556999802589417),\n",
       " EntityMapping(http://ncicb.nci.nih.gov/xml/owl/EVS/Thesaurus.owl#C39959 = http://purl.obolibrary.org/obo/DOID_5518, 0.5671550035476685),\n",
       " EntityMapping(http://ncicb.nci.nih.gov/xml/owl/EVS/Thesaurus.owl#C6205 = http://purl.obolibrary.org/obo/DOID_6052, 0.7818549871444702),\n",
       " EntityMapping(http://ncicb.nci.nih.gov/xml/owl/EVS/Thesaurus.owl#C6205 = http://purl.obolibrary.org/obo/DOID_8078, 0.7022150158882141),\n",
       " EntityMapping(http://ncicb.nci.nih.gov/xml/owl/EVS/Thesaurus.owl#C6205 = http://purl.obolibrary.org/obo/DOID_6053, 0.610027015209198),\n",
       " EntityMapping(http://ncicb.nci.nih.gov/xml/owl/EVS/Thesaurus.owl#C6205 = http://purl.obolibrary.org/obo/DOID_7430, 0.5564659833908081),\n",
       " EntityMapping(http://ncicb.nci.nih.gov/xml/owl/EVS/Thesaurus.owl#C6205 = http://purl.obolibrary.org/obo/DOID_8149, 0.5073519945144653),\n",
       " EntityMapping(http://ncicb.nci.nih.gov/xml/owl/EVS/Thesaurus.owl#C6205 = http://purl.obolibrary.org/obo/DOID_4438, 0.5020139813423157),\n",
       " EntityMapping(http://ncicb.nci.nih.gov/xml/owl/EVS/Thesaurus.owl#C7545 = http://purl.obolibrary.org/obo/DOID_0060119, 0.6708549857139587),\n",
       " EntityMapping(http://ncicb.nci.nih.gov/xml/owl/EVS/Thesaurus.owl#C3567 = http://purl.obolibrary.org/obo/DOID_12756, 0.8442959785461426),\n",
       " EntityMapping(http://ncicb.nci.nih.gov/xml/owl/EVS/Thesaurus.owl#C27543 = http://purl.obolibrary.org/obo/DOID_7049, 0.8431130051612854),\n",
       " EntityMapping(http://ncicb.nci.nih.gov/xml/owl/EVS/Thesaurus.owl#C27543 = http://purl.obolibrary.org/obo/DOID_5522, 0.6199420094490051),\n",
       " EntityMapping(http://ncicb.nci.nih.gov/xml/owl/EVS/Thesaurus.owl#C122662 = http://purl.obolibrary.org/obo/DOID_0111040, 0.6303319931030273),\n",
       " EntityMapping(http://ncicb.nci.nih.gov/xml/owl/EVS/Thesaurus.owl#C75481 = http://purl.obolibrary.org/obo/DOID_0060316, 0.8630459904670715),\n",
       " EntityMapping(http://ncicb.nci.nih.gov/xml/owl/EVS/Thesaurus.owl#C6618 = http://purl.obolibrary.org/obo/DOID_5488, 0.8697199821472168),\n",
       " EntityMapping(http://ncicb.nci.nih.gov/xml/owl/EVS/Thesaurus.owl#C98910 = http://purl.obolibrary.org/obo/DOID_3762, 0.7111539840698242),\n",
       " EntityMapping(http://ncicb.nci.nih.gov/xml/owl/EVS/Thesaurus.owl#C27576 = http://purl.obolibrary.org/obo/DOID_14203, 0.8075299859046936),\n",
       " EntityMapping(http://ncicb.nci.nih.gov/xml/owl/EVS/Thesaurus.owl#C34880 = http://purl.obolibrary.org/obo/DOID_10159, 0.8901410102844238),\n",
       " EntityMapping(http://ncicb.nci.nih.gov/xml/owl/EVS/Thesaurus.owl#C5553 = http://purl.obolibrary.org/obo/DOID_1988, 0.7761409878730774),\n",
       " EntityMapping(http://ncicb.nci.nih.gov/xml/owl/EVS/Thesaurus.owl#C8696 = http://purl.obolibrary.org/obo/DOID_7936, 0.941116988658905),\n",
       " EntityMapping(http://ncicb.nci.nih.gov/xml/owl/EVS/Thesaurus.owl#C3558 = http://purl.obolibrary.org/obo/DOID_10366, 0.8308029770851135),\n",
       " EntityMapping(http://ncicb.nci.nih.gov/xml/owl/EVS/Thesaurus.owl#C3558 = http://purl.obolibrary.org/obo/DOID_10368, 0.5339720249176025),\n",
       " EntityMapping(http://ncicb.nci.nih.gov/xml/owl/EVS/Thesaurus.owl#C131420 = http://purl.obolibrary.org/obo/DOID_0060387, 0.9268500208854675),\n",
       " EntityMapping(http://ncicb.nci.nih.gov/xml/owl/EVS/Thesaurus.owl#C8561 = http://purl.obolibrary.org/obo/DOID_3856, 0.7305489778518677),\n",
       " EntityMapping(http://ncicb.nci.nih.gov/xml/owl/EVS/Thesaurus.owl#C3572 = http://purl.obolibrary.org/obo/DOID_5612, 0.9067100286483765),\n",
       " EntityMapping(http://ncicb.nci.nih.gov/xml/owl/EVS/Thesaurus.owl#C4531 = http://purl.obolibrary.org/obo/DOID_734, 0.6178150177001953),\n",
       " EntityMapping(http://ncicb.nci.nih.gov/xml/owl/EVS/Thesaurus.owl#C7688 = http://purl.obolibrary.org/obo/DOID_3457, 0.6190999746322632),\n",
       " EntityMapping(http://ncicb.nci.nih.gov/xml/owl/EVS/Thesaurus.owl#C7688 = http://purl.obolibrary.org/obo/DOID_3008, 0.560571014881134),\n",
       " EntityMapping(http://ncicb.nci.nih.gov/xml/owl/EVS/Thesaurus.owl#C7525 = http://purl.obolibrary.org/obo/DOID_4919, 0.8330739736557007),\n",
       " EntityMapping(http://ncicb.nci.nih.gov/xml/owl/EVS/Thesaurus.owl#C7525 = http://purl.obolibrary.org/obo/DOID_5977, 0.514382004737854),\n",
       " EntityMapping(http://ncicb.nci.nih.gov/xml/owl/EVS/Thesaurus.owl#C4192 = http://purl.obolibrary.org/obo/DOID_7533, 0.8876029849052429),\n",
       " EntityMapping(http://ncicb.nci.nih.gov/xml/owl/EVS/Thesaurus.owl#C130991 = http://purl.obolibrary.org/obo/DOID_0060801, 0.554252028465271),\n",
       " EntityMapping(http://ncicb.nci.nih.gov/xml/owl/EVS/Thesaurus.owl#C4430 = http://purl.obolibrary.org/obo/DOID_6705, 0.72707599401474),\n",
       " EntityMapping(http://ncicb.nci.nih.gov/xml/owl/EVS/Thesaurus.owl#C4430 = http://purl.obolibrary.org/obo/DOID_9138, 0.5463889837265015),\n",
       " EntityMapping(http://ncicb.nci.nih.gov/xml/owl/EVS/Thesaurus.owl#C4430 = http://purl.obolibrary.org/obo/DOID_10534, 0.5015959739685059),\n",
       " EntityMapping(http://ncicb.nci.nih.gov/xml/owl/EVS/Thesaurus.owl#C27721 = http://purl.obolibrary.org/obo/DOID_0050626, 0.7043129801750183),\n",
       " EntityMapping(http://ncicb.nci.nih.gov/xml/owl/EVS/Thesaurus.owl#C2995 = http://purl.obolibrary.org/obo/DOID_10021, 0.9497079849243164),\n",
       " EntityMapping(http://ncicb.nci.nih.gov/xml/owl/EVS/Thesaurus.owl#C2995 = http://purl.obolibrary.org/obo/DOID_0050927, 0.6285579800605774),\n",
       " EntityMapping(http://ncicb.nci.nih.gov/xml/owl/EVS/Thesaurus.owl#C2995 = http://purl.obolibrary.org/obo/DOID_10816, 0.5265790224075317),\n",
       " EntityMapping(http://ncicb.nci.nih.gov/xml/owl/EVS/Thesaurus.owl#C4652 = http://purl.obolibrary.org/obo/DOID_5665, 0.8907240033149719),\n",
       " EntityMapping(http://ncicb.nci.nih.gov/xml/owl/EVS/Thesaurus.owl#C4652 = http://purl.obolibrary.org/obo/DOID_4288, 0.7387099862098694),\n",
       " EntityMapping(http://ncicb.nci.nih.gov/xml/owl/EVS/Thesaurus.owl#C131502 = http://purl.obolibrary.org/obo/DOID_9119, 0.5909489989280701),\n",
       " EntityMapping(http://ncicb.nci.nih.gov/xml/owl/EVS/Thesaurus.owl#C7164 = http://purl.obolibrary.org/obo/DOID_8567, 0.5826629996299744)]"
      ]
     },
     "execution_count": 89,
     "metadata": {},
     "output_type": "execute_result"
    }
   ],
   "source": [
    "preds"
   ]
  }
 ],
 "metadata": {
  "kernelspec": {
   "display_name": "deeponto",
   "language": "python",
   "name": "python3"
  },
  "language_info": {
   "codemirror_mode": {
    "name": "ipython",
    "version": 3
   },
   "file_extension": ".py",
   "mimetype": "text/x-python",
   "name": "python",
   "nbconvert_exporter": "python",
   "pygments_lexer": "ipython3",
   "version": "3.8.15"
  },
  "orig_nbformat": 4
 },
 "nbformat": 4,
 "nbformat_minor": 2
}
