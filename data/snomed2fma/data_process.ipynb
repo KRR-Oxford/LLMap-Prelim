{
 "cells": [
  {
   "cell_type": "code",
   "execution_count": 1,
   "metadata": {},
   "outputs": [
    {
     "name": "stdout",
     "output_type": "stream",
     "text": [
      "Please enter the maximum memory located to JVM [8g]:\n",
      "8g maximum memory allocated to JVM.\n",
      "JVM started successfully.\n"
     ]
    }
   ],
   "source": [
    "from deeponto.onto import Ontology\n",
    "from deeponto.align.bertmap import BERTMapPipeline\n",
    "from deeponto.utils import Tokenizer\n",
    "from deeponto.align.mapping import ReferenceMapping, EntityMapping\n",
    "from collections import defaultdict\n",
    "import random\n",
    "import pandas as pd"
   ]
  },
  {
   "cell_type": "code",
   "execution_count": 2,
   "metadata": {},
   "outputs": [
    {
     "name": "stderr",
     "output_type": "stream",
     "text": [
      "[main] WARN uk.ac.manchester.cs.owl.owlapi.OWLOntologyManagerImpl - Illegal redeclarations of entities: reuse of entity http://purl.org/sig/ont/fma/has_direct_shape_type in punning not allowed [Declaration(DataProperty(<http://purl.org/sig/ont/fma/has_direct_shape_type>)), Declaration(ObjectProperty(<http://purl.org/sig/ont/fma/has_direct_shape_type>))]\n"
     ]
    },
    {
     "name": "stdout",
     "output_type": "stream",
     "text": [
      "Use the default configuration at /home/yuan/anaconda3/envs/deeponto/lib/python3.8/site-packages/deeponto/align/bertmap/default_config.yaml.\n"
     ]
    }
   ],
   "source": [
    "# load source and target ontologies\n",
    "src_onto_path = \"./snomed.body.owl\"\n",
    "tgt_onto_path = \"./fma.body.owl\"\n",
    "src_onto = Ontology(src_onto_path)\n",
    "tgt_onto = Ontology(tgt_onto_path)\n",
    "config = BERTMapPipeline.load_bertmap_config()"
   ]
  },
  {
   "cell_type": "code",
   "execution_count": 3,
   "metadata": {},
   "outputs": [],
   "source": [
    "# build annotation index {class_iri: class_labels}\n",
    "src_annotation_index, _ = src_onto.build_annotation_index(config.annotation_property_iris)\n",
    "tgt_annotation_index, _ = tgt_onto.build_annotation_index(config.annotation_property_iris)\n",
    "# inverted index for candidate selection\n",
    "tgt_inv_annotation_index = tgt_onto.build_inverted_annotation_index(tgt_annotation_index, Tokenizer.from_pretrained(\"google/flan-t5-xxl\"))"
   ]
  },
  {
   "attachments": {},
   "cell_type": "markdown",
   "metadata": {},
   "source": [
    "Selecting source ontology classes based on the reference mappings, ensuring:\n",
    "\n",
    "    (1) all the reference mappings for a matched source ontology class are included\n",
    "    (2) the matched ontology classes cannot be string-matched\n",
    "    (3) 50% of the classes have a match and 50% don't "
   ]
  },
  {
   "cell_type": "code",
   "execution_count": 4,
   "metadata": {},
   "outputs": [
    {
     "name": "stdout",
     "output_type": "stream",
     "text": [
      "1846\n",
      "1639\n"
     ]
    }
   ],
   "source": [
    "full_refs =  ReferenceMapping.as_tuples(ReferenceMapping.read_table_mappings(\"refs/full_refs.tsv\"))\n",
    "# select the reference mappings that cannot be string-matched\n",
    "selected_refs_dict = defaultdict(list)\n",
    "for s, t in full_refs:\n",
    "    src_class_labels = src_annotation_index[s]\n",
    "    tgt_class_labels = tgt_annotation_index[t]\n",
    "    if not src_class_labels.intersection(tgt_class_labels):\n",
    "        selected_refs_dict[s].append(t)\n",
    "        \n",
    "print(len(selected_refs_dict))\n",
    "selected_refs_dict = {k: v for k, v in selected_refs_dict.items() if len(v) == 1}\n",
    "print(len(selected_refs_dict))"
   ]
  },
  {
   "cell_type": "code",
   "execution_count": 16,
   "metadata": {},
   "outputs": [],
   "source": [
    "# select 50 matched source classes\n",
    "matched_src_classes = random.sample(selected_refs_dict.keys(), k=50)\n",
    "selected_refs = []\n",
    "for s in matched_src_classes:\n",
    "    for t in selected_refs_dict[s]:\n",
    "        selected_refs.append((s, t))"
   ]
  },
  {
   "cell_type": "code",
   "execution_count": 17,
   "metadata": {},
   "outputs": [],
   "source": [
    "# select 50 unmatched source classes\n",
    "unmatched_src_classes = list(set(src_annotation_index.keys()) - set([s for s, _ in full_refs]))\n",
    "unmatched_src_classes = random.sample(unmatched_src_classes, k=50)"
   ]
  },
  {
   "cell_type": "code",
   "execution_count": 18,
   "metadata": {},
   "outputs": [],
   "source": [
    "# combine the matched and unmatched\n",
    "selected_refs += [(s, \"UnMatched\") for s in unmatched_src_classes]"
   ]
  },
  {
   "cell_type": "code",
   "execution_count": 19,
   "metadata": {},
   "outputs": [],
   "source": [
    "pd.DataFrame(selected_refs, columns=[\"SrcEntity\", \"TgtEntity\"]).to_csv(\"refs/test_refs.tsv\", sep=\"\\t\", index=False)"
   ]
  },
  {
   "attachments": {},
   "cell_type": "markdown",
   "metadata": {},
   "source": [
    "Assuming a perfect recall of candidate selection.\n",
    "\n",
    "Use sub-word inverted index to select 100 candidates, ensuring the target reference is inside."
   ]
  },
  {
   "cell_type": "code",
   "execution_count": 20,
   "metadata": {},
   "outputs": [],
   "source": [
    "test_refs = ReferenceMapping.as_tuples(ReferenceMapping.read_table_mappings(\"refs/test_refs.tsv\"))"
   ]
  },
  {
   "cell_type": "code",
   "execution_count": 23,
   "metadata": {},
   "outputs": [
    {
     "data": {
      "text/plain": [
       "0.82"
      ]
     },
     "execution_count": 23,
     "metadata": {},
     "output_type": "execute_result"
    }
   ],
   "source": [
    "# gathering candidates for each reference mapping\n",
    "test_cands = []\n",
    "recalled = 0\n",
    "for s, t in test_refs:\n",
    "    s_labels = src_annotation_index[s]\n",
    "    t_cands = [c for c, _ in tgt_inv_annotation_index.idf_select(list(s_labels), pool_size=100)]\n",
    "    # print(t_cands)\n",
    "    if t in t_cands:\n",
    "        recalled += 1\n",
    "    elif t != \"UnMatched\":  # add the reference target if matched\n",
    "        t_cands = [t] + t_cands[:-1]\n",
    "    test_cands.append((s, t, t_cands))\n",
    "recalled / 50"
   ]
  },
  {
   "cell_type": "code",
   "execution_count": null,
   "metadata": {},
   "outputs": [],
   "source": [
    "pd.DataFrame(data=test_cands, columns=[\"SrcEntity\", \"TgtEntity\", \"TgtCandidates\"]).to_csv(\"test_cands.tsv\", sep=\"\\t\", index=False)"
   ]
  },
  {
   "cell_type": "code",
   "execution_count": null,
   "metadata": {},
   "outputs": [],
   "source": []
  }
 ],
 "metadata": {
  "kernelspec": {
   "display_name": "deeponto",
   "language": "python",
   "name": "python3"
  },
  "language_info": {
   "codemirror_mode": {
    "name": "ipython",
    "version": 3
   },
   "file_extension": ".py",
   "mimetype": "text/x-python",
   "name": "python",
   "nbconvert_exporter": "python",
   "pygments_lexer": "ipython3",
   "version": "3.8.15"
  },
  "orig_nbformat": 4
 },
 "nbformat": 4,
 "nbformat_minor": 2
}
